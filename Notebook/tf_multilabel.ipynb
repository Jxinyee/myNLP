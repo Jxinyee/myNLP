{
 "cells": [
  {
   "cell_type": "code",
   "execution_count": 3,
   "metadata": {
    "collapsed": true
   },
   "outputs": [],
   "source": [
    "import  numpy as np\n",
    "import tensorflow as tf\n",
    "import numpy as np\n",
    "from collections import Counter\n",
    "import random\n",
    "import torch.nn.functional\n",
    "import math\n",
    "def load_data(data_path):\n",
    "    data =[]\n",
    "    ids =[]\n",
    "    max_len =0\n",
    "    law_labels =[]\n",
    "    money_label =[]\n",
    "    with open(data_path,'r',encoding='utf8') as f:\n",
    "        for line in f:\n",
    "            line = line.strip()\n",
    "            lines = line.split('\\t')\n",
    "            ids.append(lines[0])\n",
    "\n",
    "            sentence = lines[1].split(' ')\n",
    "            tmp_len = len(sentence)\n",
    "            if(tmp_len>max_len):\n",
    "                max_len = tmp_len\n",
    "            multi_label =[int(i)-1 for i in lines[3].split(',')]\n",
    "            data.append(sentence)\n",
    "            law_labels.append(multi_label)\n",
    "            money_label.append(lines[2])\n",
    "    return ids , data, money_label,law_labels\n",
    "data_path ='./data/AI_law/sample_seg_train.txt'\n",
    "ids,data,money_label,law_labels = load_data(data_path)\n"
   ]
  },
  {
   "cell_type": "code",
   "execution_count": null,
   "metadata": {},
   "outputs": [],
   "source": [
    "def bulid_vocabulary(data,min_count =3):\n",
    "    count = [('<UNK>', -1), ('<PAD>', -1)]\n",
    "    words =[]\n",
    "    [words.extend(line) for line in data]\n",
    "    counter = collections.Counter(words)\n",
    "    counter_list = counter.most_common()\n",
    "    for word,c in counter_list:\n",
    "        #记录最少出现三次的词\n",
    "        if c>min_count:\n",
    "            count.append((word,c))\n",
    "        # 同理也可以限制最多出现的词的数目\n",
    "    dict_word2index = {word:c for word,c in enumerate(count)}\n",
    "    dict_index2word ={c:word for word,c in enumerate(count)}\n",
    "    print(\"vocab size:\", len(count))\n",
    "    print(count[-1])\n",
    "    return count, dict_word2index, dict_index2word\n",
    "count, dict_word2index, dict_index2word =bulid_vocabulary(data)\n"
   ]
  }
 ],
 "metadata": {
  "kernelspec": {
   "display_name": "Python 2",
   "language": "python",
   "name": "python2"
  },
  "language_info": {
   "codemirror_mode": {
    "name": "ipython",
    "version": 2
   },
   "file_extension": ".py",
   "mimetype": "text/x-python",
   "name": "python",
   "nbconvert_exporter": "python",
   "pygments_lexer": "ipython2",
   "version": "2.7.6"
  }
 },
 "nbformat": 4,
 "nbformat_minor": 0
}
